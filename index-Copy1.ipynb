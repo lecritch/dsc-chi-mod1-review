{
 "cells": [
  {
   "cell_type": "markdown",
   "metadata": {
    "heading_collapsed": true
   },
   "source": [
    "# PANDAS 4EVER"
   ]
  },
  {
   "cell_type": "markdown",
   "metadata": {
    "hidden": true
   },
   "source": [
    "Import \n",
    "\n",
    "- pandas under the alias pd \n",
    "- datetime under the alias dt\n",
    "- mayplotlib.pyplot under the alias plt\n",
    "\n",
    "Run \n",
    "- %matplotlib inline\n",
    "\n",
    "Read in as data\n",
    "- the csv `FoodServiceData_23_0` in the data folder and assign to the variable `food`"
   ]
  },
  {
   "cell_type": "code",
   "execution_count": 123,
   "metadata": {
    "hidden": true
   },
   "outputs": [],
   "source": [
    "import pandas as pd\n",
    "import datetime as dt\n",
    "import matplotlib.pyplot as plt\n",
    "%matplotlib inline\n",
    "\n",
    "food = pd.read_csv('data/FoodServiceData_23_0.csv')"
   ]
  },
  {
   "cell_type": "markdown",
   "metadata": {
    "hidden": true
   },
   "source": [
    "## Data Exploration and Cleaning"
   ]
  },
  {
   "cell_type": "markdown",
   "metadata": {
    "hidden": true
   },
   "source": [
    "The first question to ask yourself of a dataset: \"what is this dataset treating as an observation?\"\n",
    "\n",
    "Think of an \"observation\" as an \"event\" or a \"subject\".  For example, an observation could be a:\n",
    "\n",
    "- specific subject, like an individual person, with features about that person's characteristics or behaviors: medical data like `blood pressure` or `test results`, econ / sociological data like `yearly income` or `crime rate of neighorhood in which they live`, behavioral data like what products they purchased)\n",
    "\n",
    "- aggregated subject, like in the Boston housing dataset, where each row was a suburb/town.  Features can be aggregated statistics about things within the region - like `crime rate` or `median house value` - or it can be about the specific region itself, such as `distance to Hahvahd Yahd`\n",
    "\n",
    "- event, where each row isn't tied to a specific identity but instead tied to a specific action that occured. Often, these types of datasets will have a number of features that act as keys that distinguish events from each other, as well as features containing data about the event. For example, a store with multiple locations might have a dataset of \"transactions\", where the key features for each row are `Store`, `Time` and `Transaction ID`, with other features `Item Purchased`, `Payment Method`, `Coupons Used`, etc.  Notice that the same type of data - purchasing items - can be organized as either features of a \"person\" or an \"event\".\n",
    "\n",
    "Figuring out which \"observation\" makes a row is an important part of figuring out how to analyze a dataset.  "
   ]
  },
  {
   "cell_type": "markdown",
   "metadata": {
    "hidden": true
   },
   "source": [
    "Take a look at the first five rows.  How does this dataset appear to be organized?  What is an \"observation\"?  What are the features?"
   ]
  },
  {
   "cell_type": "code",
   "execution_count": 124,
   "metadata": {
    "hidden": true
   },
   "outputs": [
    {
     "data": {
      "text/html": [
       "<div>\n",
       "<style scoped>\n",
       "    .dataframe tbody tr th:only-of-type {\n",
       "        vertical-align: middle;\n",
       "    }\n",
       "\n",
       "    .dataframe tbody tr th {\n",
       "        vertical-align: top;\n",
       "    }\n",
       "\n",
       "    .dataframe thead th {\n",
       "        text-align: right;\n",
       "    }\n",
       "</style>\n",
       "<table border=\"1\" class=\"dataframe\">\n",
       "  <thead>\n",
       "    <tr style=\"text-align: right;\">\n",
       "      <th></th>\n",
       "      <th>EstablishmentID</th>\n",
       "      <th>InspectionID</th>\n",
       "      <th>EstablishmentName</th>\n",
       "      <th>PlaceName</th>\n",
       "      <th>Address</th>\n",
       "      <th>Address2</th>\n",
       "      <th>City</th>\n",
       "      <th>State</th>\n",
       "      <th>Zip</th>\n",
       "      <th>TypeDescription</th>\n",
       "      <th>Latitude</th>\n",
       "      <th>Longitude</th>\n",
       "      <th>InspectionDate</th>\n",
       "      <th>Score</th>\n",
       "      <th>Grade</th>\n",
       "      <th>NameSearch</th>\n",
       "      <th>Intersection</th>\n",
       "    </tr>\n",
       "  </thead>\n",
       "  <tbody>\n",
       "    <tr>\n",
       "      <td>0</td>\n",
       "      <td>73002</td>\n",
       "      <td>1386666</td>\n",
       "      <td>JU-LI CREATIONS</td>\n",
       "      <td>NaN</td>\n",
       "      <td>8621 HI VIEW LN</td>\n",
       "      <td>NaN</td>\n",
       "      <td>LOUISVILLE</td>\n",
       "      <td>KY</td>\n",
       "      <td>40272</td>\n",
       "      <td>CATERERS</td>\n",
       "      <td>38.1212</td>\n",
       "      <td>0.0000</td>\n",
       "      <td>2018-06-08 00:00:00</td>\n",
       "      <td>100.0</td>\n",
       "      <td>A</td>\n",
       "      <td>JU-LI CREATIONS</td>\n",
       "      <td>NaN</td>\n",
       "    </tr>\n",
       "    <tr>\n",
       "      <td>1</td>\n",
       "      <td>41292</td>\n",
       "      <td>1386726</td>\n",
       "      <td>OLE HICKORY PIT BAR B Q</td>\n",
       "      <td>NaN</td>\n",
       "      <td>6106 OLD SHEPHERDSVILLE RD</td>\n",
       "      <td>NaN</td>\n",
       "      <td>LOUISVILLE</td>\n",
       "      <td>KY</td>\n",
       "      <td>40228</td>\n",
       "      <td>FOOD SERVICE</td>\n",
       "      <td>38.1628</td>\n",
       "      <td>-85.6604</td>\n",
       "      <td>2018-05-21 00:00:00</td>\n",
       "      <td>NaN</td>\n",
       "      <td>NaN</td>\n",
       "      <td>OLE HICKORY PIT BAR B Q</td>\n",
       "      <td>NaN</td>\n",
       "    </tr>\n",
       "    <tr>\n",
       "      <td>2</td>\n",
       "      <td>41292</td>\n",
       "      <td>1386727</td>\n",
       "      <td>OLE HICKORY PIT BAR B Q</td>\n",
       "      <td>NaN</td>\n",
       "      <td>6106 OLD SHEPHERDSVILLE RD</td>\n",
       "      <td>NaN</td>\n",
       "      <td>LOUISVILLE</td>\n",
       "      <td>KY</td>\n",
       "      <td>40228</td>\n",
       "      <td>FOOD SERVICE</td>\n",
       "      <td>38.1628</td>\n",
       "      <td>-85.6604</td>\n",
       "      <td>2018-06-05 00:00:00</td>\n",
       "      <td>NaN</td>\n",
       "      <td>NaN</td>\n",
       "      <td>OLE HICKORY PIT BAR B Q</td>\n",
       "      <td>NaN</td>\n",
       "    </tr>\n",
       "    <tr>\n",
       "      <td>3</td>\n",
       "      <td>90821</td>\n",
       "      <td>1386729</td>\n",
       "      <td>SONIC DRIVE-IN</td>\n",
       "      <td>NaN</td>\n",
       "      <td>8600 AMBROSSE LN</td>\n",
       "      <td>NaN</td>\n",
       "      <td>LOUISVILLE</td>\n",
       "      <td>KY</td>\n",
       "      <td>40299</td>\n",
       "      <td>FOOD SERVICE</td>\n",
       "      <td>38.1961</td>\n",
       "      <td>-85.6030</td>\n",
       "      <td>2018-06-07 00:00:00</td>\n",
       "      <td>NaN</td>\n",
       "      <td>NaN</td>\n",
       "      <td>SONIC DRIVE-IN</td>\n",
       "      <td>NaN</td>\n",
       "    </tr>\n",
       "    <tr>\n",
       "      <td>4</td>\n",
       "      <td>75560</td>\n",
       "      <td>1386745</td>\n",
       "      <td>PROOF ON MAIN</td>\n",
       "      <td>NaN</td>\n",
       "      <td>702 W MAIN ST</td>\n",
       "      <td>NaN</td>\n",
       "      <td>LOUISVILLE</td>\n",
       "      <td>KY</td>\n",
       "      <td>40202</td>\n",
       "      <td>FOOD SERVICE</td>\n",
       "      <td>38.2570</td>\n",
       "      <td>-85.7618</td>\n",
       "      <td>2018-06-12 00:00:00</td>\n",
       "      <td>100.0</td>\n",
       "      <td>A</td>\n",
       "      <td>PROOF ON MAIN</td>\n",
       "      <td>NaN</td>\n",
       "    </tr>\n",
       "  </tbody>\n",
       "</table>\n",
       "</div>"
      ],
      "text/plain": [
       "   EstablishmentID  InspectionID        EstablishmentName  PlaceName  \\\n",
       "0            73002       1386666          JU-LI CREATIONS        NaN   \n",
       "1            41292       1386726  OLE HICKORY PIT BAR B Q        NaN   \n",
       "2            41292       1386727  OLE HICKORY PIT BAR B Q        NaN   \n",
       "3            90821       1386729           SONIC DRIVE-IN        NaN   \n",
       "4            75560       1386745            PROOF ON MAIN        NaN   \n",
       "\n",
       "                      Address  Address2        City State    Zip  \\\n",
       "0             8621 HI VIEW LN       NaN  LOUISVILLE    KY  40272   \n",
       "1  6106 OLD SHEPHERDSVILLE RD       NaN  LOUISVILLE    KY  40228   \n",
       "2  6106 OLD SHEPHERDSVILLE RD       NaN  LOUISVILLE    KY  40228   \n",
       "3            8600 AMBROSSE LN       NaN  LOUISVILLE    KY  40299   \n",
       "4               702 W MAIN ST       NaN  LOUISVILLE    KY  40202   \n",
       "\n",
       "  TypeDescription  Latitude  Longitude       InspectionDate  Score Grade  \\\n",
       "0        CATERERS   38.1212     0.0000  2018-06-08 00:00:00  100.0     A   \n",
       "1    FOOD SERVICE   38.1628   -85.6604  2018-05-21 00:00:00    NaN   NaN   \n",
       "2    FOOD SERVICE   38.1628   -85.6604  2018-06-05 00:00:00    NaN   NaN   \n",
       "3    FOOD SERVICE   38.1961   -85.6030  2018-06-07 00:00:00    NaN   NaN   \n",
       "4    FOOD SERVICE   38.2570   -85.7618  2018-06-12 00:00:00  100.0     A   \n",
       "\n",
       "                NameSearch  Intersection  \n",
       "0          JU-LI CREATIONS           NaN  \n",
       "1  OLE HICKORY PIT BAR B Q           NaN  \n",
       "2  OLE HICKORY PIT BAR B Q           NaN  \n",
       "3           SONIC DRIVE-IN           NaN  \n",
       "4            PROOF ON MAIN           NaN  "
      ]
     },
     "execution_count": 124,
     "metadata": {},
     "output_type": "execute_result"
    }
   ],
   "source": [
    "#Your code here\n",
    "food.head()\n",
    "# so it looks like each row is a restruant/establishment of some kind..."
   ]
  },
  {
   "cell_type": "markdown",
   "metadata": {
    "hidden": true
   },
   "source": [
    "Which have nulls in them?"
   ]
  },
  {
   "cell_type": "code",
   "execution_count": 125,
   "metadata": {
    "hidden": true
   },
   "outputs": [
    {
     "name": "stdout",
     "output_type": "stream",
     "text": [
      "<class 'pandas.core.frame.DataFrame'>\n",
      "RangeIndex: 9809 entries, 0 to 9808\n",
      "Data columns (total 17 columns):\n",
      "EstablishmentID      9809 non-null int64\n",
      "InspectionID         9809 non-null int64\n",
      "EstablishmentName    9809 non-null object\n",
      "PlaceName            0 non-null float64\n",
      "Address              9809 non-null object\n",
      "Address2             0 non-null float64\n",
      "City                 9809 non-null object\n",
      "State                9809 non-null object\n",
      "Zip                  9809 non-null int64\n",
      "TypeDescription      9809 non-null object\n",
      "Latitude             9809 non-null float64\n",
      "Longitude            9809 non-null float64\n",
      "InspectionDate       9809 non-null object\n",
      "Score                8090 non-null float64\n",
      "Grade                6271 non-null object\n",
      "NameSearch           9809 non-null object\n",
      "Intersection         0 non-null float64\n",
      "dtypes: float64(6), int64(3), object(8)\n",
      "memory usage: 1.3+ MB\n"
     ]
    }
   ],
   "source": [
    "#Your code here\n",
    "food.info()"
   ]
  },
  {
   "cell_type": "code",
   "execution_count": 126,
   "metadata": {},
   "outputs": [],
   "source": [
    "# PlaceName, Address2, Intersection are ALL null rows\n",
    "# Score and Grade have some null rows. "
   ]
  },
  {
   "cell_type": "markdown",
   "metadata": {
    "hidden": true
   },
   "source": [
    "#### There are 3 features that are all nulls, let's get rid of them.\n",
    "\n",
    "**First**, use a method to drop a specific column.  **Then**, for the other two, use a method that will drop all columns that are completely null. \n",
    "\n",
    "Check that only those columns were dropped."
   ]
  },
  {
   "cell_type": "code",
   "execution_count": 127,
   "metadata": {
    "hidden": true
   },
   "outputs": [],
   "source": [
    "#Your code here\n",
    "# First drop PlaceName:\n",
    "food.drop('PlaceName', axis = 1, inplace = True)"
   ]
  },
  {
   "cell_type": "code",
   "execution_count": 128,
   "metadata": {
    "hidden": true
   },
   "outputs": [],
   "source": [
    "# Now drop other 2 rows that are completely null:\n",
    "food.dropna(axis = 1, how = 'all', inplace = True)"
   ]
  },
  {
   "cell_type": "code",
   "execution_count": 129,
   "metadata": {},
   "outputs": [
    {
     "name": "stdout",
     "output_type": "stream",
     "text": [
      "<class 'pandas.core.frame.DataFrame'>\n",
      "RangeIndex: 9809 entries, 0 to 9808\n",
      "Data columns (total 14 columns):\n",
      "EstablishmentID      9809 non-null int64\n",
      "InspectionID         9809 non-null int64\n",
      "EstablishmentName    9809 non-null object\n",
      "Address              9809 non-null object\n",
      "City                 9809 non-null object\n",
      "State                9809 non-null object\n",
      "Zip                  9809 non-null int64\n",
      "TypeDescription      9809 non-null object\n",
      "Latitude             9809 non-null float64\n",
      "Longitude            9809 non-null float64\n",
      "InspectionDate       9809 non-null object\n",
      "Score                8090 non-null float64\n",
      "Grade                6271 non-null object\n",
      "NameSearch           9809 non-null object\n",
      "dtypes: float64(3), int64(3), object(8)\n",
      "memory usage: 1.0+ MB\n"
     ]
    }
   ],
   "source": [
    "food.info()"
   ]
  },
  {
   "cell_type": "markdown",
   "metadata": {
    "hidden": true
   },
   "source": [
    "#### For now, let's only look at rows w/ values in the `Score` column\n",
    "\n",
    "Drop all rows w/ nulls for `Score`.  Make sure you print out how many rows there are pre-drop, how many you dropped, and how many there are after dropping!"
   ]
  },
  {
   "cell_type": "code",
   "execution_count": 115,
   "metadata": {
    "hidden": true
   },
   "outputs": [
    {
     "data": {
      "text/plain": [
       "(9809, 14)"
      ]
     },
     "execution_count": 115,
     "metadata": {},
     "output_type": "execute_result"
    }
   ],
   "source": [
    "#Your code here\n",
    "# Pre-drop:\n",
    "food.shape"
   ]
  },
  {
   "cell_type": "code",
   "execution_count": 133,
   "metadata": {},
   "outputs": [
    {
     "data": {
      "text/plain": [
       "(1719,)"
      ]
     },
     "execution_count": 133,
     "metadata": {},
     "output_type": "execute_result"
    }
   ],
   "source": [
    "# Rows to drop:\n",
    "rows_to_drop = food[food['Score'].isna() == True].index\n",
    "rows_to_drop.shape"
   ]
  },
  {
   "cell_type": "code",
   "execution_count": 134,
   "metadata": {},
   "outputs": [
    {
     "data": {
      "text/plain": [
       "(8090, 14)"
      ]
     },
     "execution_count": 134,
     "metadata": {},
     "output_type": "execute_result"
    }
   ],
   "source": [
    "# Rows after dropping:\n",
    "food.drop(rows_to_drop, axis = 0, inplace = True)\n",
    "food.shape"
   ]
  },
  {
   "cell_type": "markdown",
   "metadata": {
    "hidden": true
   },
   "source": [
    "#### Looks like there might be a relationship in nulls b/t `Score` and `Grade`\n",
    "\n",
    "Do all the nulls of `Score` also have nulls for `Grade`? Vice versa?"
   ]
  },
  {
   "cell_type": "code",
   "execution_count": 135,
   "metadata": {
    "hidden": true
   },
   "outputs": [
    {
     "name": "stdout",
     "output_type": "stream",
     "text": [
      "Rows w/ Score and null Grade: 1819\n",
      "Rows w/ Grade and null Score: 0\n"
     ]
    }
   ],
   "source": [
    "#Your code here\n",
    "# food.info()\n",
    "score_nullGrade = food['Score'].notnull() & food['Grade'].isnull()\n",
    "\n",
    "# score_nullGrade\n",
    "grade_nullScore = food['Grade'].notnull() & food['Score'].isnull()\n",
    "\n",
    "# grade_nullScore\n",
    "\n",
    "print(f'Rows w/ Score and null Grade: {len(food[score_nullGrade])}')\n",
    "print(f'Rows w/ Grade and null Score: {len(food[grade_nullScore])}')"
   ]
  },
  {
   "cell_type": "markdown",
   "metadata": {
    "hidden": true
   },
   "source": [
    "#### Let's see if we can fill in those `Grade` values from `Score`\n",
    "\n",
    "How does `Grade` map onto `Score`?  Let's find the rows that have both `Grade` and `Score` values, group by `Grade`, and see the min, max and mean for `Score` for each `Grade`"
   ]
  },
  {
   "cell_type": "code",
   "execution_count": 136,
   "metadata": {
    "hidden": true
   },
   "outputs": [
    {
     "data": {
      "text/plain": [
       "(8090, 14)"
      ]
     },
     "execution_count": 136,
     "metadata": {},
     "output_type": "execute_result"
    }
   ],
   "source": [
    "#Your code here\n",
    "food_grade = food[food['Grade'].notna()]\n",
    "food_grade.groupby('Grade')['Score'].agg(['count', min, max, 'mean'])\n",
    "food.shape"
   ]
  },
  {
   "cell_type": "markdown",
   "metadata": {
    "hidden": true
   },
   "source": [
    "#### Whelp.  Let's just drop `Grade` then"
   ]
  },
  {
   "cell_type": "code",
   "execution_count": 137,
   "metadata": {
    "hidden": true
   },
   "outputs": [],
   "source": [
    "#Your code here\n",
    "food.drop('Grade', axis = 1, inplace = True)"
   ]
  },
  {
   "cell_type": "code",
   "execution_count": 138,
   "metadata": {},
   "outputs": [
    {
     "data": {
      "text/plain": [
       "(8090, 13)"
      ]
     },
     "execution_count": 138,
     "metadata": {},
     "output_type": "execute_result"
    }
   ],
   "source": [
    "food.shape"
   ]
  },
  {
   "cell_type": "markdown",
   "metadata": {
    "hidden": true
   },
   "source": [
    "#### Let's familiarize ourselves with the levels of the categories for the features that are object types"
   ]
  },
  {
   "cell_type": "code",
   "execution_count": null,
   "metadata": {
    "hidden": true
   },
   "outputs": [],
   "source": [
    "#Your code here"
   ]
  },
  {
   "cell_type": "markdown",
   "metadata": {
    "hidden": true
   },
   "source": [
    "#### Do you see some columns that might be duplicated?\n",
    "\n",
    "Test to see if they're identical"
   ]
  },
  {
   "cell_type": "code",
   "execution_count": null,
   "metadata": {
    "hidden": true
   },
   "outputs": [],
   "source": [
    "#Your code here"
   ]
  },
  {
   "cell_type": "markdown",
   "metadata": {
    "hidden": true
   },
   "source": [
    "#### Of the two identical columns, drop the one that comes second"
   ]
  },
  {
   "cell_type": "code",
   "execution_count": null,
   "metadata": {
    "hidden": true
   },
   "outputs": [],
   "source": [
    "#Your code here"
   ]
  },
  {
   "cell_type": "markdown",
   "metadata": {
    "hidden": true
   },
   "source": [
    "#### Let's inspect the `InspectionDate` column\n",
    "\n",
    "What type is it?"
   ]
  },
  {
   "cell_type": "code",
   "execution_count": null,
   "metadata": {
    "hidden": true
   },
   "outputs": [],
   "source": [
    "#Your code here"
   ]
  },
  {
   "cell_type": "markdown",
   "metadata": {
    "hidden": true
   },
   "source": [
    "Convert the column to datetime object"
   ]
  },
  {
   "cell_type": "code",
   "execution_count": null,
   "metadata": {
    "hidden": true
   },
   "outputs": [],
   "source": [
    "#Your code here"
   ]
  },
  {
   "cell_type": "markdown",
   "metadata": {
    "hidden": true
   },
   "source": [
    "## Data Manipulation"
   ]
  },
  {
   "cell_type": "markdown",
   "metadata": {
    "hidden": true
   },
   "source": [
    "#### Let's keep working with that `InspectionDate` column"
   ]
  },
  {
   "cell_type": "markdown",
   "metadata": {
    "hidden": true
   },
   "source": [
    "Create a column that shows the day of inspection"
   ]
  },
  {
   "cell_type": "code",
   "execution_count": 231,
   "metadata": {
    "hidden": true
   },
   "outputs": [],
   "source": [
    "#Your code here"
   ]
  },
  {
   "cell_type": "markdown",
   "metadata": {
    "hidden": true
   },
   "source": [
    "#### Get mean score per day"
   ]
  },
  {
   "cell_type": "code",
   "execution_count": null,
   "metadata": {
    "hidden": true
   },
   "outputs": [],
   "source": [
    "#Your code here"
   ]
  },
  {
   "cell_type": "markdown",
   "metadata": {
    "hidden": true
   },
   "source": [
    "#### Graph!\n",
    "\n",
    "Give it a title \"Average Inspection Score by Date\"\n",
    "\n",
    "Label the axes \"Date\" and \"Avg Inspection Score\""
   ]
  },
  {
   "cell_type": "code",
   "execution_count": null,
   "metadata": {
    "hidden": true
   },
   "outputs": [],
   "source": [
    "#Your code here"
   ]
  },
  {
   "cell_type": "markdown",
   "metadata": {
    "hidden": true
   },
   "source": [
    "#### Let's say we wanted to compare it to a city that had scores that dropped down to 80\n",
    "\n",
    "Re-set the scale of the y-axis so it starts at 75 and ends at 100.  Re-graph."
   ]
  },
  {
   "cell_type": "code",
   "execution_count": null,
   "metadata": {
    "hidden": true
   },
   "outputs": [],
   "source": [
    "#Your code here"
   ]
  },
  {
   "cell_type": "markdown",
   "metadata": {
    "hidden": true
   },
   "source": [
    "Let's see how `Score` breaks down by `TypeDescription`.\n",
    "\n",
    "Create two columns, one whose value is the mean `Score` of the `TypeDescription` value for that row, one whose value is the std of `Score`\n",
    "- Groupby `TypeDescription` and calc the mean and std of `Score` \n",
    "- Merge with `Food` on `TypeDescription` value"
   ]
  },
  {
   "cell_type": "code",
   "execution_count": null,
   "metadata": {
    "hidden": true
   },
   "outputs": [],
   "source": [
    "#Your code here"
   ]
  },
  {
   "cell_type": "markdown",
   "metadata": {
    "hidden": true
   },
   "source": [
    "Calculate a new column that's difference between an inspections's `Score` and its `TypeDescription_Mean` in units of `TypeDescription_Std`"
   ]
  },
  {
   "cell_type": "code",
   "execution_count": null,
   "metadata": {
    "hidden": true
   },
   "outputs": [],
   "source": [
    "#Your code here"
   ]
  },
  {
   "cell_type": "markdown",
   "metadata": {
    "hidden": true
   },
   "source": [
    "Find the values of `EstablishmentName` of the 20 inspections whose `Score` most exceeds its `TypeDescrition_Mean`"
   ]
  },
  {
   "cell_type": "code",
   "execution_count": null,
   "metadata": {
    "hidden": true
   },
   "outputs": [],
   "source": [
    "#Your code here"
   ]
  },
  {
   "cell_type": "code",
   "execution_count": null,
   "metadata": {
    "hidden": true
   },
   "outputs": [],
   "source": []
  },
  {
   "cell_type": "markdown",
   "metadata": {},
   "source": [
    "# Import Libraries"
   ]
  },
  {
   "cell_type": "code",
   "execution_count": 4,
   "metadata": {
    "ExecuteTime": {
     "end_time": "2020-05-21T16:09:35.853741Z",
     "start_time": "2020-05-21T16:09:34.969575Z"
    },
    "code_folding": []
   },
   "outputs": [],
   "source": [
    "# SQL Connection and Querying\n",
    "import sqlite3\n",
    "\n",
    "# Data manipulation\n",
    "import pandas as pd\n",
    "\n",
    "# API Connection\n",
    "import requests\n",
    "\n",
    "# Visualization\n",
    "import matplotlib.pyplot as plt"
   ]
  },
  {
   "cell_type": "markdown",
   "metadata": {},
   "source": [
    "# SQL"
   ]
  },
  {
   "cell_type": "markdown",
   "metadata": {},
   "source": [
    "![](index_files/schema.png)"
   ]
  },
  {
   "cell_type": "markdown",
   "metadata": {},
   "source": [
    "Open a connection to ```chinook.db```"
   ]
  },
  {
   "cell_type": "code",
   "execution_count": 2,
   "metadata": {},
   "outputs": [],
   "source": [
    "# Your code here\n"
   ]
  },
  {
   "cell_type": "markdown",
   "metadata": {
    "heading_collapsed": true
   },
   "source": [
    "## 1.\n",
    "\n",
    ">Select all column and rows from the genres table"
   ]
  },
  {
   "cell_type": "code",
   "execution_count": 1,
   "metadata": {
    "hidden": true
   },
   "outputs": [],
   "source": [
    "# Your code here\n"
   ]
  },
  {
   "cell_type": "markdown",
   "metadata": {
    "heading_collapsed": true
   },
   "source": [
    "## 2.\n",
    "\n",
    "1. Select the ```City``` column from the ```customers``` table \n",
    "2. Select the ```Name``` column from the ```genres``` table –– aliased as \"Genre\" .\n",
    "3. Create a column that counts the number of purchases made from each city for Blues music.\n",
    "4. Sort the results in descending order.\n",
    "5. Return the top ten cities."
   ]
  },
  {
   "cell_type": "code",
   "execution_count": 3,
   "metadata": {
    "hidden": true
   },
   "outputs": [],
   "source": [
    "# Your code here\n"
   ]
  },
  {
   "cell_type": "markdown",
   "metadata": {
    "heading_collapsed": true
   },
   "source": [
    "## 3.\n",
    "\n",
    "1. Select the ```FirstName``` column from the ```customers``` table\n",
    "2. Select the ```LastName``` column from the ```customers``` table\n",
    "3. Select the ```Email``` column from the ```customers``` table\n",
    "4. Create a new column that is the multiplication of the ```UnitPrice``` and ```Quantity``` columns from the ```invoice_items``` table. \n",
    "    - Alias this column as ```Total```.\n",
    "5. Use ```GROUP BY```  to return the sum total for each customer\n",
    "6. Sort in descending order\n",
    "7. Return the top 20 highest spending customers."
   ]
  },
  {
   "cell_type": "code",
   "execution_count": null,
   "metadata": {
    "hidden": true
   },
   "outputs": [],
   "source": [
    "# Your code here\n"
   ]
  },
  {
   "cell_type": "markdown",
   "metadata": {
    "heading_collapsed": true
   },
   "source": [
    "# API\n",
    "\n",
    "\n",
    ">For this review, we will take a look at three separate APIs and work through the process of writing requests based on each APIs documentation."
   ]
  },
  {
   "cell_type": "markdown",
   "metadata": {
    "heading_collapsed": true,
    "hidden": true
   },
   "source": [
    "## Public Holiday API\n",
    "\n",
    ">This API provides public holiday information for more than 90 countries. \n",
    "\n",
    ">The API's Documentation can be found [here](https://date.nager.at/swagger/index.html)\n",
    "\n"
   ]
  },
  {
   "cell_type": "markdown",
   "metadata": {
    "hidden": true
   },
   "source": [
    "**Write a request to return all available countries**"
   ]
  },
  {
   "cell_type": "code",
   "execution_count": 4,
   "metadata": {
    "hidden": true
   },
   "outputs": [],
   "source": [
    "# Your code here\n"
   ]
  },
  {
   "cell_type": "markdown",
   "metadata": {
    "hidden": true
   },
   "source": [
    "**Convert the results of our request to a DataFrame**"
   ]
  },
  {
   "cell_type": "code",
   "execution_count": 19,
   "metadata": {
    "hidden": true
   },
   "outputs": [],
   "source": [
    "# Your code here\n"
   ]
  },
  {
   "cell_type": "markdown",
   "metadata": {
    "hidden": true
   },
   "source": [
    "**What is the key for the United States?**"
   ]
  },
  {
   "cell_type": "code",
   "execution_count": 26,
   "metadata": {
    "hidden": true
   },
   "outputs": [],
   "source": [
    "# Your code here"
   ]
  },
  {
   "cell_type": "markdown",
   "metadata": {
    "hidden": true
   },
   "source": [
    "**Make a request to the API that returns the public holidays for the United States**"
   ]
  },
  {
   "cell_type": "code",
   "execution_count": 27,
   "metadata": {
    "hidden": true
   },
   "outputs": [],
   "source": [
    "# Your code here"
   ]
  },
  {
   "cell_type": "markdown",
   "metadata": {
    "hidden": true
   },
   "source": [
    "**Convert ```us``` to a DataFrame**"
   ]
  },
  {
   "cell_type": "code",
   "execution_count": null,
   "metadata": {
    "hidden": true
   },
   "outputs": [],
   "source": [
    "# Your code here\n"
   ]
  },
  {
   "cell_type": "markdown",
   "metadata": {
    "heading_collapsed": true,
    "hidden": true
   },
   "source": [
    "## iTunes API\n",
    "\n",
    "Documentation for this API can be found [here](https://affiliate.itunes.apple.com/resources/documentation/itunes-store-web-service-search-api/)"
   ]
  },
  {
   "cell_type": "markdown",
   "metadata": {
    "hidden": true
   },
   "source": [
    "Submit a request to the iTunes API that returns data on Harry Potter Audio Books"
   ]
  },
  {
   "cell_type": "code",
   "execution_count": null,
   "metadata": {
    "hidden": true
   },
   "outputs": [],
   "source": [
    "# Your code here\n"
   ]
  },
  {
   "cell_type": "markdown",
   "metadata": {
    "heading_collapsed": true,
    "hidden": true
   },
   "source": [
    "### Level Up\n",
    "\n",
    "Using the data from the Harry Potter Audio Books request, collect the artistId for each entry and use those IDs to make a single ```https://itunes.apple.com/lookup?id={}&entity=audiobooks&sort=recent``` request. \n",
    "\n",
    "To do this:\n",
    "- Every id should be added to a string\n",
    "- Each id should be followed by a comma. ie ```id1,id2,id3,id4```\n",
    "    - The final id should not be followed by a comma\n",
    "- No id should be added to the string more than once."
   ]
  },
  {
   "cell_type": "code",
   "execution_count": null,
   "metadata": {
    "hidden": true
   },
   "outputs": [],
   "source": [
    "# Your code here\n"
   ]
  },
  {
   "cell_type": "code",
   "execution_count": 142,
   "metadata": {
    "ExecuteTime": {
     "end_time": "2020-05-21T19:37:19.505344Z",
     "start_time": "2020-05-21T19:37:19.171206Z"
    },
    "hidden": true
   },
   "outputs": [
    {
     "name": "stdout",
     "output_type": "stream",
     "text": [
      "Number of results: 123\n"
     ]
    }
   ],
   "source": [
    "# Run this cell!\n",
    "REQUEST = 'https://itunes.apple.com/lookup?id={}&entity=audiobook&sort=recent'.format(ARTIST_IDS)\n",
    "req = requests.get(REQUEST).json()\n",
    "\n",
    "number_of_results = req['resultCount']\n",
    "print('Number of results:', number_of_results)"
   ]
  }
 ],
 "metadata": {
  "hide_input": false,
  "kernelspec": {
   "display_name": "Python 3",
   "language": "python",
   "name": "python3"
  },
  "language_info": {
   "codemirror_mode": {
    "name": "ipython",
    "version": 3
   },
   "file_extension": ".py",
   "mimetype": "text/x-python",
   "name": "python",
   "nbconvert_exporter": "python",
   "pygments_lexer": "ipython3",
   "version": "3.6.9"
  },
  "toc": {
   "base_numbering": 1,
   "nav_menu": {},
   "number_sections": false,
   "sideBar": true,
   "skip_h1_title": true,
   "title_cell": "Table of Contents",
   "title_sidebar": "Contents",
   "toc_cell": false,
   "toc_position": {},
   "toc_section_display": true,
   "toc_window_display": false
  },
  "varInspector": {
   "cols": {
    "lenName": 16,
    "lenType": 16,
    "lenVar": 40
   },
   "kernels_config": {
    "python": {
     "delete_cmd_postfix": "",
     "delete_cmd_prefix": "del ",
     "library": "var_list.py",
     "varRefreshCmd": "print(var_dic_list())"
    },
    "r": {
     "delete_cmd_postfix": ") ",
     "delete_cmd_prefix": "rm(",
     "library": "var_list.r",
     "varRefreshCmd": "cat(var_dic_list()) "
    }
   },
   "types_to_exclude": [
    "module",
    "function",
    "builtin_function_or_method",
    "instance",
    "_Feature"
   ],
   "window_display": false
  }
 },
 "nbformat": 4,
 "nbformat_minor": 4
}
